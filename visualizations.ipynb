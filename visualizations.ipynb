{
  "cells": [
    {
      "cell_type": "code",
      "execution_count": null,
      "id": "d314338c-1e30-4266-9f05-2e11e9144296",
      "metadata": {
        "id": "d314338c-1e30-4266-9f05-2e11e9144296"
      },
      "outputs": [],
      "source": [
        "import sys\n",
        "\n",
        "import os\n",
        "import pandas as pd\n",
        "from bs4 import BeautifulSoup\n",
        "import random\n",
        "import matplotlib as mpl\n",
        "import matplotlib.pyplot as plt\n",
        "import json\n",
        "import locale\n",
        "from collections import defaultdict\n",
        "import datetime\n",
        "import numpy as np\n",
        "\n",
        "locale.setlocale(locale.LC_ALL, 'en_US.UTF-8')\n",
        "import datetime as dt\n",
        "\n",
        "# NLTK imports\n",
        "import nltk\n",
        "from collections import Counter\n",
        "\n",
        "nltk.data.path.append('../nltk_data/')\n",
        "nltk.download('stopwords')\n",
        "from nltk.sentiment.vader import SentimentIntensityAnalyzer\n",
        "import nltk\n",
        "nltk.download('vader_lexicon')\n",
        "import string\n",
        "from nltk import collocations\n",
        "from nltk.text import Text\n",
        "from nltk.tokenize import WhitespaceTokenizer\n",
        "from nltk.corpus import stopwords\n",
        "from nltk.stem.wordnet import WordNetLemmatizer\n",
        "from nltk.tokenize import word_tokenize\n",
        "from nltk.corpus import sentiwordnet as swn\n",
        "from nltk import RegexpParser\n",
        "from nltk.tree import *\n",
        "\n",
        "# spaCy imports\n",
        "import spacy\n",
        "from spacy.symbols import nsubj, VERB\n",
        "\n",
        "from time import sleep\n",
        "from lxml import etree\n",
        "!{sys.executable} -m pip install wordcloud tabulate"
      ]
    },
    {
      "cell_type": "code",
      "execution_count": null,
      "id": "6ea79d08-5998-4422-ad62-3fba8ad8e902",
      "metadata": {
        "id": "6ea79d08-5998-4422-ad62-3fba8ad8e902"
      },
      "outputs": [],
      "source": [
        "nltk.download('stopwords')\n",
        "\n",
        "# Get the English stopwords from NLTK\n",
        "stopwords = set(stopwords.words('english'))"
      ]
    },
    {
      "cell_type": "code",
      "execution_count": null,
      "id": "d54700c7-3200-4ed9-a023-5d784f12a952",
      "metadata": {
        "collapsed": true,
        "id": "d54700c7-3200-4ed9-a023-5d784f12a952"
      },
      "outputs": [],
      "source": [
        "with open('pal_affiliations.json', 'r') as file:\n",
        "    PALESTINE_MEMBER_AFFILIATIONS = json.load(file)\n",
        "\n",
        "with open('israel_affiliations.json', 'r') as file:\n",
        "    ISRAEL_MEMBER_AFFILIATIONS = json.load(file)"
      ]
    },
    {
      "cell_type": "code",
      "execution_count": null,
      "id": "b43e110a-0c8a-4c4f-b095-07a8deaef5d2",
      "metadata": {
        "id": "b43e110a-0c8a-4c4f-b095-07a8deaef5d2"
      },
      "outputs": [],
      "source": [
        "df = pd.read_csv('./data/summary_20240421_articles.csv')\n",
        "df['date'] = pd.to_datetime(df['date'], format='mixed')\n",
        "counts_dict = defaultdict(lambda: defaultdict(int))\n",
        "\n",
        "root_directory = './'"
      ]
    },
    {
      "cell_type": "code",
      "execution_count": null,
      "id": "f97df96c-b6cc-4948-ad46-059179c2f7e7",
      "metadata": {
        "id": "f97df96c-b6cc-4948-ad46-059179c2f7e7"
      },
      "outputs": [],
      "source": [
        "with open('active_verb_counts.json', 'r') as file:\n",
        "    active_verb_counts = json.load(file)\n",
        "\n",
        "with open('passive_verb_counts.json', 'r') as file:\n",
        "    passive_verb_counts = json.load(file)\n",
        "\n",
        "with open('patient_agent_counts.json', 'r') as file:\n",
        "    active_passive_counts = json.load(file)"
      ]
    },
    {
      "cell_type": "code",
      "execution_count": null,
      "id": "fa6ea383-1dc5-4bc0-a805-c6ff46c1cdcb",
      "metadata": {
        "id": "fa6ea383-1dc5-4bc0-a805-c6ff46c1cdcb"
      },
      "outputs": [],
      "source": [
        "def cooccurences(context_window, israel_co_occurrences, palestine_co_occurrences):\n",
        "    for sentence in sentences:\n",
        "        tokens = sentence[\"tokens\"]\n",
        "        dependencies = sentence[\"basicDependencies\"]\n",
        "\n",
        "        # Extract words and their positions\n",
        "        words = [token[\"word\"] for token in tokens]\n",
        "        word_positions = {word: idx for idx, word in enumerate(words)}\n",
        "\n",
        "        # Find co-occurrences with words from the \"israel\" and \"palestine\" categories\n",
        "        for token in tokens:\n",
        "            word = token[\"word\"]\n",
        "            lemma = token[\"lemma\"]\n",
        "\n",
        "            # Check if the word is in the \"israel\" or \"palestine\" categories\n",
        "            if word in ISRAEL_MEMBER_AFFILIATIONS:\n",
        "                category = \"israel\"\n",
        "            elif word in PALESTINE_MEMBER_AFFILIATIONS:\n",
        "                category = \"palestine\"\n",
        "            else:\n",
        "                continue\n",
        "\n",
        "            # Define the context window around the word\n",
        "            start_idx = max(0, word_positions[word] - context_window)\n",
        "            end_idx = min(len(words), word_positions[word] + context_window + 1)\n",
        "\n",
        "            # Extract the context words\n",
        "            context_words = words[start_idx:end_idx]\n",
        "            context_words.remove(word)  # Remove the word itself from the context\n",
        "\n",
        "            # Update co-occurrence counts\n",
        "            if category == \"israel\":\n",
        "                for context_word in context_words:\n",
        "                    if context_word in PALESTINE_MEMBER_AFFILIATIONS or context_word in stopwords or len(context_word) < 3:\n",
        "                        continue\n",
        "                    context_word = context_word.lower()\n",
        "                    israel_co_occurrences[context_word] = israel_co_occurrences.get(context_word, 0) + 1\n",
        "            elif category == \"palestine\":\n",
        "                for context_word in context_words:\n",
        "                    if context_word in ISRAEL_MEMBER_AFFILIATIONS or context_word in stopwords or len(context_word) < 3:\n",
        "                        continue\n",
        "                    context_word = context_word.lower()\n",
        "                    palestine_co_occurrences[context_word] = palestine_co_occurrences.get(context_word, 0) + 1\n",
        "\n",
        "    return israel_co_occurrences, palestine_co_occurrences"
      ]
    },
    {
      "cell_type": "code",
      "execution_count": null,
      "id": "818904c1-f7fd-45c5-bbb4-0c1d62f49a00",
      "metadata": {
        "id": "818904c1-f7fd-45c5-bbb4-0c1d62f49a00"
      },
      "outputs": [],
      "source": [
        "from tabulate import tabulate\n",
        "\n",
        "def print_top_10(dictionary, title):\n",
        "    # Sort the dictionary by values in descending order and take the top 10 items\n",
        "    sorted_dict = dict(sorted(dictionary.items(), key=lambda item: item[1], reverse=True)[:10])\n",
        "\n",
        "    # Convert the dictionary to a list of lists for tabulate\n",
        "    table_data = [[word, count] for word, count in sorted_dict.items()]\n",
        "\n",
        "    # Print the table\n",
        "    print(f\"Top 10 {title}:\")\n",
        "    print(tabulate(table_data, headers=['Word', 'Count'], tablefmt='grid'))"
      ]
    },
    {
      "cell_type": "code",
      "execution_count": null,
      "id": "51154e23-9f79-4d03-bbef-2cdd7e3aeb4f",
      "metadata": {
        "id": "51154e23-9f79-4d03-bbef-2cdd7e3aeb4f"
      },
      "outputs": [],
      "source": [
        "# Initialize co-occurrence counters\n",
        "israel_co_occurrences = {}\n",
        "palestine_co_occurrences = {}\n",
        "\n",
        "# Iterate through sentences to find co-occurrences\n",
        "# Loop through each article\n",
        "for index, row in df.iterrows():\n",
        "\n",
        "    # Initialize variables to track presence of keywords\n",
        "    antisemitic_present = False\n",
        "    islamophobic_present = False\n",
        "\n",
        "    results_file = row['results_file']\n",
        "    article_file = row['article_file']\n",
        "\n",
        "    filename = root_directory + results_file\n",
        "\n",
        "    try:\n",
        "        with open(filename) as d:\n",
        "            data = json.load(d)\n",
        "    except FileNotFoundError:\n",
        "        print('FILE NOT FOUND')\n",
        "        continue\n",
        "\n",
        "    # Open original text block from preprocessed data file\n",
        "    original_filename = root_directory + article_file\n",
        "    f = open(original_filename, \"r\")\n",
        "    article_text = f.read()\n",
        "    f.close()\n",
        "\n",
        "\n",
        "    sentences = data[\"sentences\"]\n",
        "    isr_word_counts, pal_word_counts = cooccurences(3, israel_co_occurrences, palestine_co_occurrences)"
      ]
    },
    {
      "cell_type": "code",
      "execution_count": null,
      "id": "c119610b-9291-40d1-a2fd-c09f4db57643",
      "metadata": {
        "id": "c119610b-9291-40d1-a2fd-c09f4db57643"
      },
      "outputs": [],
      "source": [
        "sorted_isr_counts = dict(sorted(isr_word_counts.items(), key=lambda item: item[1], reverse=True))\n",
        "sorted_isr_counts"
      ]
    },
    {
      "cell_type": "code",
      "execution_count": null,
      "id": "6897808e-5235-42e1-b637-0b0ff4a5fab1",
      "metadata": {
        "id": "6897808e-5235-42e1-b637-0b0ff4a5fab1"
      },
      "outputs": [],
      "source": [
        "sorted_pal_counts = dict(sorted(pal_word_counts.items(), key=lambda item: item[1], reverse=True))\n",
        "sorted_pal_counts"
      ]
    },
    {
      "cell_type": "code",
      "execution_count": null,
      "id": "c62087d1-e282-4be1-87b4-090cd394f385",
      "metadata": {
        "id": "c62087d1-e282-4be1-87b4-090cd394f385"
      },
      "outputs": [],
      "source": [
        "print_top_10(sorted_pal_counts, \"Palestine Word Co-occurrences\")"
      ]
    },
    {
      "cell_type": "code",
      "execution_count": null,
      "id": "f724243e-2c84-468d-b986-7c0ac557858d",
      "metadata": {
        "id": "f724243e-2c84-468d-b986-7c0ac557858d"
      },
      "outputs": [],
      "source": [
        "print_top_10(sorted_isr_counts, \"Israel Word Co-occurrences\")"
      ]
    },
    {
      "cell_type": "code",
      "execution_count": null,
      "id": "b386425a-b37a-4eb4-aab6-663b9567b171",
      "metadata": {
        "id": "b386425a-b37a-4eb4-aab6-663b9567b171"
      },
      "outputs": [],
      "source": [
        "def find_most_different_cooccurrences(dict1, dict2, threshold=0):\n",
        "    # Initialize dictionaries to store words with the most drastic differences\n",
        "    dict1_more = {}\n",
        "    dict2_more = {}\n",
        "\n",
        "    # Iterate through each word in the first dictionary\n",
        "    for word, count1 in dict1.items():\n",
        "        if word in PALESTINE_MEMBER_AFFILIATIONS or word in ISRAEL_MEMBER_AFFILIATIONS:\n",
        "            continue\n",
        "\n",
        "        # Get the count of the word in the second dictionary (default to 0 if word not present)\n",
        "        count2 = dict2.get(word, 0)\n",
        "\n",
        "        # Calculate the difference in counts\n",
        "        difference = count1 - count2\n",
        "\n",
        "        # Check if the difference exceeds the threshold\n",
        "        if difference > threshold:\n",
        "            dict1_more[word] = difference\n",
        "\n",
        "    # Iterate through each word in the second dictionary\n",
        "    for word, count2 in dict2.items():\n",
        "        if word in PALESTINE_MEMBER_AFFILIATIONS or word in ISRAEL_MEMBER_AFFILIATIONS:\n",
        "            continue\n",
        "        # Get the count of the word in the first dictionary (default to 0 if word not present)\n",
        "        count1 = dict1.get(word, 0)\n",
        "\n",
        "        # Calculate the difference in counts\n",
        "        difference = count2 - count1\n",
        "\n",
        "        # Check if the difference exceeds the threshold\n",
        "        if difference > threshold:\n",
        "            dict2_more[word] = difference\n",
        "\n",
        "    # Sort the dictionaries by values in descending order\n",
        "    sorted_dict1_more = dict(sorted(dict1_more.items(), key=lambda item: item[1], reverse=True))\n",
        "    sorted_dict2_more = dict(sorted(dict2_more.items(), key=lambda item: item[1], reverse=True))\n",
        "\n",
        "    return (sorted_dict1_more, sorted_dict2_more)"
      ]
    },
    {
      "cell_type": "code",
      "execution_count": null,
      "id": "dc8007a0-e1e1-40bc-a36d-7de0be62a578",
      "metadata": {
        "id": "dc8007a0-e1e1-40bc-a36d-7de0be62a578"
      },
      "outputs": [],
      "source": [
        "# Call the function to find words with the most different co-occurrences\n",
        "more_pal, more_isr = find_most_different_cooccurrences(pal_word_counts, isr_word_counts)\n"
      ]
    },
    {
      "cell_type": "code",
      "execution_count": null,
      "id": "0fe500d0-acbf-4762-a05a-f0ce37df0389",
      "metadata": {
        "id": "0fe500d0-acbf-4762-a05a-f0ce37df0389"
      },
      "outputs": [],
      "source": [
        "more_pal"
      ]
    },
    {
      "cell_type": "code",
      "execution_count": null,
      "id": "1240753c-2081-40e9-936e-92ce9cb22880",
      "metadata": {
        "id": "1240753c-2081-40e9-936e-92ce9cb22880"
      },
      "outputs": [],
      "source": [
        "more_isr"
      ]
    },
    {
      "cell_type": "code",
      "execution_count": null,
      "id": "17431ab2-2c22-46f0-b2c8-4e23aaf75bc1",
      "metadata": {
        "id": "17431ab2-2c22-46f0-b2c8-4e23aaf75bc1"
      },
      "outputs": [],
      "source": []
    },
    {
      "cell_type": "code",
      "execution_count": null,
      "id": "a81451bb-5761-43a4-a1ea-dacb0ebca885",
      "metadata": {
        "id": "a81451bb-5761-43a4-a1ea-dacb0ebca885"
      },
      "outputs": [],
      "source": [
        "print_top_10(more_pal, \"Words occurring more in context with Palestine\")\n",
        "print_top_10(more_isr, \"Words occurring more in context with Israel\")"
      ]
    },
    {
      "cell_type": "code",
      "execution_count": null,
      "id": "59341fba-37a6-48f5-bd66-a03b50707e8b",
      "metadata": {
        "id": "59341fba-37a6-48f5-bd66-a03b50707e8b"
      },
      "outputs": [],
      "source": [
        "def analyze_sentiment_and_plot(word_counts, title):\n",
        "    # Initialize the VADER sentiment analyzer\n",
        "    sid = SentimentIntensityAnalyzer()\n",
        "\n",
        "    # Analyze sentiment for each word and collect compound scores\n",
        "    compound_scores = []\n",
        "    for word, count in word_counts.items():\n",
        "        # Perform sentiment analysis on the word\n",
        "        sentiment_scores = sid.polarity_scores(word)\n",
        "        # Append the compound score for the word\n",
        "        compound_scores.extend([sentiment_scores['compound']] * count)\n",
        "\n",
        "    # Plot histogram\n",
        "    plt.figure(figsize=(10, 6))\n",
        "    plt.hist(compound_scores, bins=10, edgecolor='black')\n",
        "    plt.xlabel('Sentiment Score (Compound)')\n",
        "    plt.ylabel('Frequency')\n",
        "    plt.title(title)\n",
        "    plt.show()\n"
      ]
    },
    {
      "cell_type": "code",
      "execution_count": null,
      "id": "ceb6b77a-514d-4d41-9642-a1e54bc0defc",
      "metadata": {
        "id": "ceb6b77a-514d-4d41-9642-a1e54bc0defc"
      },
      "outputs": [],
      "source": [
        "analyze_sentiment_and_plot(active_verb_counts['israel'], 'Sentiment Score Distribution- Active Verbs, Israel')"
      ]
    },
    {
      "cell_type": "code",
      "execution_count": null,
      "id": "974e9bfd-5686-4769-8e73-1aa8bd561b90",
      "metadata": {
        "id": "974e9bfd-5686-4769-8e73-1aa8bd561b90"
      },
      "outputs": [],
      "source": [
        "analyze_sentiment_and_plot(active_verb_counts['palestine'], 'Sentiment Score Distribution- Active Verbs, Palestine')"
      ]
    },
    {
      "cell_type": "code",
      "execution_count": null,
      "id": "8df5555c-830a-4d9a-ae21-9bf6ee4b3415",
      "metadata": {
        "id": "8df5555c-830a-4d9a-ae21-9bf6ee4b3415"
      },
      "outputs": [],
      "source": [
        "analyze_sentiment_and_plot(passive_verb_counts['israel'], 'Sentiment Score Distribution- Passive Verbs, Israel')"
      ]
    },
    {
      "cell_type": "code",
      "execution_count": null,
      "id": "adef5086-b0dd-400d-8a23-a83854ec9007",
      "metadata": {
        "id": "adef5086-b0dd-400d-8a23-a83854ec9007"
      },
      "outputs": [],
      "source": [
        "analyze_sentiment_and_plot(passive_verb_counts['palestine'], 'Sentiment Score Distribution- Passive Verbs, Palestine')"
      ]
    },
    {
      "cell_type": "code",
      "execution_count": null,
      "id": "85741a38-26a1-430b-bd5d-a0372d208edf",
      "metadata": {
        "id": "85741a38-26a1-430b-bd5d-a0372d208edf"
      },
      "outputs": [],
      "source": [
        "from wordcloud import WordCloud\n",
        "def generate_and_plot_wordcloud(word_counts, title):\n",
        "    # Generate word cloud from word counts\n",
        "    wordcloud = WordCloud(width=800, height=400, background_color=\"white\").generate_from_frequencies(word_counts)\n",
        "\n",
        "    # Plot the word cloud\n",
        "    plt.figure(figsize=(10, 6))\n",
        "    plt.imshow(wordcloud, interpolation=\"bilinear\")\n",
        "    plt.title(title)\n",
        "    plt.axis(\"off\")\n",
        "    plt.show()\n"
      ]
    },
    {
      "cell_type": "code",
      "execution_count": null,
      "id": "8cdcdc15-232b-4438-8de8-89a22880121b",
      "metadata": {
        "id": "8cdcdc15-232b-4438-8de8-89a22880121b"
      },
      "outputs": [],
      "source": [
        "generate_and_plot_wordcloud(active_verb_counts['israel'], \"Word Cloud- Active Verbs, Israel\")"
      ]
    },
    {
      "cell_type": "code",
      "execution_count": null,
      "id": "57f54cf7-f5f6-4d6d-89f6-4488c7459f5c",
      "metadata": {
        "id": "57f54cf7-f5f6-4d6d-89f6-4488c7459f5c"
      },
      "outputs": [],
      "source": [
        "generate_and_plot_wordcloud(active_verb_counts['palestine'], \"Word Cloud- Active Verbs, Palestine\")"
      ]
    },
    {
      "cell_type": "code",
      "execution_count": null,
      "id": "5b3d2de1-af7a-4a63-9c60-8e155f44389b",
      "metadata": {
        "id": "5b3d2de1-af7a-4a63-9c60-8e155f44389b"
      },
      "outputs": [],
      "source": [
        "generate_and_plot_wordcloud(passive_verb_counts['israel'], \"Word Cloud- Passive Verbs, Israel\")"
      ]
    },
    {
      "cell_type": "code",
      "execution_count": null,
      "id": "1ef55ac2-5a62-4697-a11e-b3e0d76d80e2",
      "metadata": {
        "id": "1ef55ac2-5a62-4697-a11e-b3e0d76d80e2"
      },
      "outputs": [],
      "source": [
        "generate_and_plot_wordcloud(passive_verb_counts['palestine'], \"Word Cloud- Passive Verbs, Palestine\")"
      ]
    },
    {
      "cell_type": "code",
      "execution_count": null,
      "id": "8d7c1869-e918-406c-93bb-e30ab7a286c2",
      "metadata": {
        "id": "8d7c1869-e918-406c-93bb-e30ab7a286c2"
      },
      "outputs": [],
      "source": [
        "def get_top_ten_words(word_counts):\n",
        "    top_ten_words = Counter(word_counts).most_common(10)\n",
        "    return top_ten_words"
      ]
    },
    {
      "cell_type": "code",
      "execution_count": null,
      "id": "6304f77f-e876-45c6-a045-fb785b76d3a4",
      "metadata": {
        "id": "6304f77f-e876-45c6-a045-fb785b76d3a4"
      },
      "outputs": [],
      "source": [
        "get_top_ten_words(passive_verb_counts['palestine'])"
      ]
    },
    {
      "cell_type": "code",
      "execution_count": null,
      "id": "ab67aef4-6e05-4a1f-8901-de28d6397fe9",
      "metadata": {
        "id": "ab67aef4-6e05-4a1f-8901-de28d6397fe9"
      },
      "outputs": [],
      "source": [
        "get_top_ten_words(passive_verb_counts['israel'])"
      ]
    },
    {
      "cell_type": "code",
      "execution_count": null,
      "id": "e6df6edd-dbe6-4e8a-8146-64434b23bb15",
      "metadata": {
        "id": "e6df6edd-dbe6-4e8a-8146-64434b23bb15"
      },
      "outputs": [],
      "source": [
        "get_top_ten_words(active_verb_counts['palestine'])"
      ]
    },
    {
      "cell_type": "code",
      "execution_count": null,
      "id": "77ecf24b-fd37-466e-807d-29ffbfea8725",
      "metadata": {
        "id": "77ecf24b-fd37-466e-807d-29ffbfea8725"
      },
      "outputs": [],
      "source": [
        "get_top_ten_words(active_verb_counts['israel'])"
      ]
    },
    {
      "cell_type": "code",
      "execution_count": null,
      "id": "eee07a62-6abd-40da-9bb7-6229f7974567",
      "metadata": {
        "id": "eee07a62-6abd-40da-9bb7-6229f7974567"
      },
      "outputs": [],
      "source": [
        "def plot_pie_chart(data, title):\n",
        "    labels = data.keys()\n",
        "    sizes = data.values()\n",
        "    colors = ['lightblue', 'lightgreen', 'lightcoral']\n",
        "\n",
        "    plt.figure(figsize=(8, 6))\n",
        "    plt.pie(sizes, labels=labels, colors=colors, autopct='%1.1f%%', startangle=90)\n",
        "    plt.axis('equal')  # Equal aspect ratio ensures that pie is drawn as a circle.\n",
        "    plt.title(title)\n",
        "    plt.show()"
      ]
    },
    {
      "cell_type": "code",
      "execution_count": null,
      "id": "2a15e079-aa1b-469c-b5d6-0a136b6296a4",
      "metadata": {
        "id": "2a15e079-aa1b-469c-b5d6-0a136b6296a4"
      },
      "outputs": [],
      "source": [
        "plot_pie_chart(active_passive_counts[\"israel\"], \"Israeli Affiliates\")"
      ]
    },
    {
      "cell_type": "code",
      "execution_count": null,
      "id": "164e57bd-1cbf-42d3-80ca-f3342df1e1f7",
      "metadata": {
        "id": "164e57bd-1cbf-42d3-80ca-f3342df1e1f7"
      },
      "outputs": [],
      "source": [
        "plot_pie_chart(active_passive_counts[\"palestine\"], \"Palestinian Affiliates\")"
      ]
    },
    {
      "cell_type": "code",
      "execution_count": null,
      "id": "f81fa794-1833-4399-aeef-16982f6dd965",
      "metadata": {
        "id": "f81fa794-1833-4399-aeef-16982f6dd965"
      },
      "outputs": [],
      "source": [
        "active_passive_counts[\"israel\"]"
      ]
    },
    {
      "cell_type": "code",
      "execution_count": null,
      "id": "7495bcd2-b672-4df2-8750-8de1dadc1eef",
      "metadata": {
        "id": "7495bcd2-b672-4df2-8750-8de1dadc1eef"
      },
      "outputs": [],
      "source": [
        "def plot_keyword_counts(df, title='Keyword Counts Over Weeks'):\n",
        "    # Plot the data\n",
        "    df.plot(kind='line')\n",
        "\n",
        "    # Set labels and title\n",
        "    plt.xlabel('Week since Oct 7')\n",
        "    plt.ylabel('Count')\n",
        "    plt.title(title)\n",
        "\n",
        "    # Show the legend\n",
        "    plt.legend(title='Category')\n",
        "\n",
        "    # Show grid\n",
        "    plt.grid(True)\n",
        "\n",
        "    # Show the plot\n",
        "    plt.show()"
      ]
    },
    {
      "cell_type": "code",
      "execution_count": null,
      "id": "f5d6b8e7-f21e-4e3d-87cf-02527ff63ec6",
      "metadata": {
        "id": "f5d6b8e7-f21e-4e3d-87cf-02527ff63ec6"
      },
      "outputs": [],
      "source": [
        "df = pd.read_csv('keyword_counts_no_affiliates.csv')\n",
        "plot_keyword_counts(df)"
      ]
    },
    {
      "cell_type": "code",
      "execution_count": null,
      "id": "3f5d387d-3803-4c20-a3f7-8a7a95708567",
      "metadata": {
        "id": "3f5d387d-3803-4c20-a3f7-8a7a95708567"
      },
      "outputs": [],
      "source": [
        "df = pd.read_csv('keyword_counts_incl_affiliates.csv')\n",
        "plot_keyword_counts(df)"
      ]
    },
    {
      "cell_type": "code",
      "execution_count": null,
      "id": "ff2d62da-ab71-4538-8ab9-a9594172c69d",
      "metadata": {
        "id": "ff2d62da-ab71-4538-8ab9-a9594172c69d"
      },
      "outputs": [],
      "source": [
        "pd.read_csv('keyword_counts_no_affiliates.csv')"
      ]
    },
    {
      "cell_type": "code",
      "execution_count": null,
      "id": "c5de04ab-044a-4beb-9720-7410f4adb6f5",
      "metadata": {
        "id": "c5de04ab-044a-4beb-9720-7410f4adb6f5"
      },
      "outputs": [],
      "source": [
        "pd.read_csv('keyword_counts_incl_affiliates.csv')"
      ]
    },
    {
      "cell_type": "code",
      "execution_count": null,
      "id": "1c2a3b68-d14f-4eac-ada0-b13321844a84",
      "metadata": {
        "id": "1c2a3b68-d14f-4eac-ada0-b13321844a84"
      },
      "outputs": [],
      "source": [
        "import matplotlib.pyplot as plt\n",
        "\n",
        "# Data\n",
        "categories = ['Antisemitism only', 'Both Antisemitism and Islamophobia', 'Islamophobia only']\n",
        "counts = [94, 40, 7]\n",
        "colors = ['#FF5733', '#6A5ACD', '#4682B4']  # Nice color palette\n",
        "\n",
        "# Create bar chart\n",
        "plt.figure(figsize=(10, 6))\n",
        "bars = plt.bar(categories, counts, color=colors)\n",
        "\n",
        "# Add counts above the bars\n",
        "for bar, count in zip(bars, counts):\n",
        "    plt.text(bar.get_x() + bar.get_width() / 2, bar.get_height() + 1, str(count),\n",
        "             ha='center', va='bottom', fontsize=12)\n",
        "\n",
        "# Add labels and title\n",
        "plt.xlabel('Categories')\n",
        "plt.ylabel('Number of Articles')\n",
        "plt.title('BBC Articles mentioning Antisemitism and/or Islamophobia', fontsize=16)\n",
        "\n",
        "# Show plot\n",
        "plt.tight_layout()\n",
        "plt.show()\n",
        "\n"
      ]
    },
    {
      "cell_type": "code",
      "execution_count": null,
      "id": "f4be7760-0d99-4460-8752-606739188042",
      "metadata": {
        "id": "f4be7760-0d99-4460-8752-606739188042"
      },
      "outputs": [],
      "source": [
        "# Data- from feb\n",
        "categories = ['Antisemitic Incidents- CST', 'Islamophobia incidents- MAMA']\n",
        "counts = [2699, 2010]\n",
        "colors = ['#FF5733', '#4682B4']\n",
        "\n",
        "# Create bar chart\n",
        "plt.figure(figsize=(8, 6))\n",
        "plt.bar(categories, counts, color=colors)\n",
        "\n",
        "# Add counts above the bars\n",
        "for i in range(len(categories)):\n",
        "    plt.text(i, counts[i] + 1, str(counts[i]), ha='center')\n",
        "\n",
        "# Add labels and title\n",
        "plt.ylabel('Number of Reports')\n",
        "plt.title('Reports of Antisemitism and Islamophobia in the UK')\n",
        "\n",
        "plt.show()"
      ]
    }
  ],
  "metadata": {
    "kernelspec": {
      "display_name": "Python 3 (ipykernel)",
      "language": "python",
      "name": "python3"
    },
    "language_info": {
      "codemirror_mode": {
        "name": "ipython",
        "version": 3
      },
      "file_extension": ".py",
      "mimetype": "text/x-python",
      "name": "python",
      "nbconvert_exporter": "python",
      "pygments_lexer": "ipython3",
      "version": "3.10.4"
    },
    "colab": {
      "provenance": []
    }
  },
  "nbformat": 4,
  "nbformat_minor": 5
}